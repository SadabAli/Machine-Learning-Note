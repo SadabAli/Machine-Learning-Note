{
 "cells": [
  {
   "cell_type": "code",
   "execution_count": 60,
   "metadata": {},
   "outputs": [],
   "source": [
    "import pandas as pd\n",
    "import numpy as np"
   ]
  },
  {
   "cell_type": "code",
   "execution_count": 61,
   "metadata": {},
   "outputs": [
    {
     "data": {
      "text/html": [
       "<div>\n",
       "<style scoped>\n",
       "    .dataframe tbody tr th:only-of-type {\n",
       "        vertical-align: middle;\n",
       "    }\n",
       "\n",
       "    .dataframe tbody tr th {\n",
       "        vertical-align: top;\n",
       "    }\n",
       "\n",
       "    .dataframe thead th {\n",
       "        text-align: right;\n",
       "    }\n",
       "</style>\n",
       "<table border=\"1\" class=\"dataframe\">\n",
       "  <thead>\n",
       "    <tr style=\"text-align: right;\">\n",
       "      <th></th>\n",
       "      <th>hash</th>\n",
       "      <th>millisecond</th>\n",
       "      <th>classification</th>\n",
       "      <th>state</th>\n",
       "      <th>usage_counter</th>\n",
       "      <th>prio</th>\n",
       "      <th>static_prio</th>\n",
       "      <th>normal_prio</th>\n",
       "      <th>policy</th>\n",
       "      <th>vm_pgoff</th>\n",
       "      <th>...</th>\n",
       "      <th>nivcsw</th>\n",
       "      <th>min_flt</th>\n",
       "      <th>maj_flt</th>\n",
       "      <th>fs_excl_counter</th>\n",
       "      <th>lock</th>\n",
       "      <th>utime</th>\n",
       "      <th>stime</th>\n",
       "      <th>gtime</th>\n",
       "      <th>cgtime</th>\n",
       "      <th>signal_nvcsw</th>\n",
       "    </tr>\n",
       "  </thead>\n",
       "  <tbody>\n",
       "    <tr>\n",
       "      <th>47963</th>\n",
       "      <td>com.google.android.apps.docs.editors.docs.apk</td>\n",
       "      <td>963</td>\n",
       "      <td>benign</td>\n",
       "      <td>65536</td>\n",
       "      <td>0</td>\n",
       "      <td>3069595648</td>\n",
       "      <td>18391</td>\n",
       "      <td>0</td>\n",
       "      <td>0</td>\n",
       "      <td>0</td>\n",
       "      <td>...</td>\n",
       "      <td>55</td>\n",
       "      <td>1</td>\n",
       "      <td>120</td>\n",
       "      <td>1</td>\n",
       "      <td>3204448256</td>\n",
       "      <td>401004</td>\n",
       "      <td>5</td>\n",
       "      <td>2</td>\n",
       "      <td>0</td>\n",
       "      <td>0</td>\n",
       "    </tr>\n",
       "    <tr>\n",
       "      <th>24050</th>\n",
       "      <td>com.miniclip.dudeperfect.apk</td>\n",
       "      <td>50</td>\n",
       "      <td>benign</td>\n",
       "      <td>0</td>\n",
       "      <td>0</td>\n",
       "      <td>3069456384</td>\n",
       "      <td>15709</td>\n",
       "      <td>0</td>\n",
       "      <td>0</td>\n",
       "      <td>0</td>\n",
       "      <td>...</td>\n",
       "      <td>109</td>\n",
       "      <td>0</td>\n",
       "      <td>120</td>\n",
       "      <td>0</td>\n",
       "      <td>3204448256</td>\n",
       "      <td>384273</td>\n",
       "      <td>4</td>\n",
       "      <td>1</td>\n",
       "      <td>0</td>\n",
       "      <td>0</td>\n",
       "    </tr>\n",
       "  </tbody>\n",
       "</table>\n",
       "<p>2 rows × 35 columns</p>\n",
       "</div>"
      ],
      "text/plain": [
       "                                                hash  millisecond  \\\n",
       "47963  com.google.android.apps.docs.editors.docs.apk          963   \n",
       "24050                   com.miniclip.dudeperfect.apk           50   \n",
       "\n",
       "      classification  state  usage_counter        prio  static_prio  \\\n",
       "47963         benign  65536              0  3069595648        18391   \n",
       "24050         benign      0              0  3069456384        15709   \n",
       "\n",
       "       normal_prio  policy  vm_pgoff  ...  nivcsw  min_flt  maj_flt  \\\n",
       "47963            0       0         0  ...      55        1      120   \n",
       "24050            0       0         0  ...     109        0      120   \n",
       "\n",
       "       fs_excl_counter        lock   utime  stime  gtime  cgtime  signal_nvcsw  \n",
       "47963                1  3204448256  401004      5      2       0             0  \n",
       "24050                0  3204448256  384273      4      1       0             0  \n",
       "\n",
       "[2 rows x 35 columns]"
      ]
     },
     "execution_count": 61,
     "metadata": {},
     "output_type": "execute_result"
    }
   ],
   "source": [
    "df = pd.read_csv(r\"C:\\Users\\alisa\\OneDrive\\Desktop\\Machine Learning Note\\Malware dataset.csv\")\n",
    "df.sample(2)"
   ]
  },
  {
   "cell_type": "code",
   "execution_count": 62,
   "metadata": {},
   "outputs": [],
   "source": [
    "df.drop(columns='hash' , inplace=True)"
   ]
  },
  {
   "cell_type": "code",
   "execution_count": 63,
   "metadata": {},
   "outputs": [
    {
     "data": {
      "text/html": [
       "<div>\n",
       "<style scoped>\n",
       "    .dataframe tbody tr th:only-of-type {\n",
       "        vertical-align: middle;\n",
       "    }\n",
       "\n",
       "    .dataframe tbody tr th {\n",
       "        vertical-align: top;\n",
       "    }\n",
       "\n",
       "    .dataframe thead th {\n",
       "        text-align: right;\n",
       "    }\n",
       "</style>\n",
       "<table border=\"1\" class=\"dataframe\">\n",
       "  <thead>\n",
       "    <tr style=\"text-align: right;\">\n",
       "      <th></th>\n",
       "      <th>millisecond</th>\n",
       "      <th>classification</th>\n",
       "      <th>state</th>\n",
       "      <th>usage_counter</th>\n",
       "      <th>prio</th>\n",
       "      <th>static_prio</th>\n",
       "      <th>normal_prio</th>\n",
       "      <th>policy</th>\n",
       "      <th>vm_pgoff</th>\n",
       "      <th>vm_truncate_count</th>\n",
       "      <th>...</th>\n",
       "      <th>nivcsw</th>\n",
       "      <th>min_flt</th>\n",
       "      <th>maj_flt</th>\n",
       "      <th>fs_excl_counter</th>\n",
       "      <th>lock</th>\n",
       "      <th>utime</th>\n",
       "      <th>stime</th>\n",
       "      <th>gtime</th>\n",
       "      <th>cgtime</th>\n",
       "      <th>signal_nvcsw</th>\n",
       "    </tr>\n",
       "  </thead>\n",
       "  <tbody>\n",
       "    <tr>\n",
       "      <th>99166</th>\n",
       "      <td>166</td>\n",
       "      <td>malware</td>\n",
       "      <td>4096</td>\n",
       "      <td>0</td>\n",
       "      <td>3070148608</td>\n",
       "      <td>13988</td>\n",
       "      <td>0</td>\n",
       "      <td>0</td>\n",
       "      <td>0</td>\n",
       "      <td>10406</td>\n",
       "      <td>...</td>\n",
       "      <td>2</td>\n",
       "      <td>1</td>\n",
       "      <td>120</td>\n",
       "      <td>0</td>\n",
       "      <td>3204448256</td>\n",
       "      <td>371979</td>\n",
       "      <td>3</td>\n",
       "      <td>0</td>\n",
       "      <td>0</td>\n",
       "      <td>0</td>\n",
       "    </tr>\n",
       "    <tr>\n",
       "      <th>25380</th>\n",
       "      <td>380</td>\n",
       "      <td>benign</td>\n",
       "      <td>0</td>\n",
       "      <td>0</td>\n",
       "      <td>3069714432</td>\n",
       "      <td>15450</td>\n",
       "      <td>0</td>\n",
       "      <td>0</td>\n",
       "      <td>0</td>\n",
       "      <td>15792</td>\n",
       "      <td>...</td>\n",
       "      <td>53</td>\n",
       "      <td>1</td>\n",
       "      <td>120</td>\n",
       "      <td>4</td>\n",
       "      <td>3204448256</td>\n",
       "      <td>384381</td>\n",
       "      <td>5</td>\n",
       "      <td>4</td>\n",
       "      <td>0</td>\n",
       "      <td>0</td>\n",
       "    </tr>\n",
       "  </tbody>\n",
       "</table>\n",
       "<p>2 rows × 34 columns</p>\n",
       "</div>"
      ],
      "text/plain": [
       "       millisecond classification  state  usage_counter        prio  \\\n",
       "99166          166        malware   4096              0  3070148608   \n",
       "25380          380         benign      0              0  3069714432   \n",
       "\n",
       "       static_prio  normal_prio  policy  vm_pgoff  vm_truncate_count  ...  \\\n",
       "99166        13988            0       0         0              10406  ...   \n",
       "25380        15450            0       0         0              15792  ...   \n",
       "\n",
       "       nivcsw  min_flt  maj_flt  fs_excl_counter        lock   utime  stime  \\\n",
       "99166       2        1      120                0  3204448256  371979      3   \n",
       "25380      53        1      120                4  3204448256  384381      5   \n",
       "\n",
       "       gtime  cgtime  signal_nvcsw  \n",
       "99166      0       0             0  \n",
       "25380      4       0             0  \n",
       "\n",
       "[2 rows x 34 columns]"
      ]
     },
     "execution_count": 63,
     "metadata": {},
     "output_type": "execute_result"
    }
   ],
   "source": [
    "df.sample(2)"
   ]
  },
  {
   "cell_type": "code",
   "execution_count": 64,
   "metadata": {},
   "outputs": [
    {
     "data": {
      "text/plain": [
       "millisecond          0\n",
       "classification       0\n",
       "state                0\n",
       "usage_counter        0\n",
       "prio                 0\n",
       "static_prio          0\n",
       "normal_prio          0\n",
       "policy               0\n",
       "vm_pgoff             0\n",
       "vm_truncate_count    0\n",
       "task_size            0\n",
       "cached_hole_size     0\n",
       "free_area_cache      0\n",
       "mm_users             0\n",
       "map_count            0\n",
       "hiwater_rss          0\n",
       "total_vm             0\n",
       "shared_vm            0\n",
       "exec_vm              0\n",
       "reserved_vm          0\n",
       "nr_ptes              0\n",
       "end_data             0\n",
       "last_interval        0\n",
       "nvcsw                0\n",
       "nivcsw               0\n",
       "min_flt              0\n",
       "maj_flt              0\n",
       "fs_excl_counter      0\n",
       "lock                 0\n",
       "utime                0\n",
       "stime                0\n",
       "gtime                0\n",
       "cgtime               0\n",
       "signal_nvcsw         0\n",
       "dtype: int64"
      ]
     },
     "execution_count": 64,
     "metadata": {},
     "output_type": "execute_result"
    }
   ],
   "source": [
    "df.isnull().sum()"
   ]
  },
  {
   "cell_type": "code",
   "execution_count": 65,
   "metadata": {},
   "outputs": [
    {
     "data": {
      "text/plain": [
       "(100000, 34)"
      ]
     },
     "execution_count": 65,
     "metadata": {},
     "output_type": "execute_result"
    }
   ],
   "source": [
    "df.shape"
   ]
  },
  {
   "cell_type": "code",
   "execution_count": 66,
   "metadata": {},
   "outputs": [],
   "source": [
    "df = df.sample(100000)"
   ]
  },
  {
   "cell_type": "code",
   "execution_count": 67,
   "metadata": {},
   "outputs": [
    {
     "data": {
      "text/html": [
       "<div>\n",
       "<style scoped>\n",
       "    .dataframe tbody tr th:only-of-type {\n",
       "        vertical-align: middle;\n",
       "    }\n",
       "\n",
       "    .dataframe tbody tr th {\n",
       "        vertical-align: top;\n",
       "    }\n",
       "\n",
       "    .dataframe thead th {\n",
       "        text-align: right;\n",
       "    }\n",
       "</style>\n",
       "<table border=\"1\" class=\"dataframe\">\n",
       "  <thead>\n",
       "    <tr style=\"text-align: right;\">\n",
       "      <th></th>\n",
       "      <th>millisecond</th>\n",
       "      <th>classification</th>\n",
       "      <th>state</th>\n",
       "      <th>usage_counter</th>\n",
       "      <th>prio</th>\n",
       "      <th>static_prio</th>\n",
       "      <th>normal_prio</th>\n",
       "      <th>policy</th>\n",
       "      <th>vm_pgoff</th>\n",
       "      <th>vm_truncate_count</th>\n",
       "      <th>...</th>\n",
       "      <th>nivcsw</th>\n",
       "      <th>min_flt</th>\n",
       "      <th>maj_flt</th>\n",
       "      <th>fs_excl_counter</th>\n",
       "      <th>lock</th>\n",
       "      <th>utime</th>\n",
       "      <th>stime</th>\n",
       "      <th>gtime</th>\n",
       "      <th>cgtime</th>\n",
       "      <th>signal_nvcsw</th>\n",
       "    </tr>\n",
       "  </thead>\n",
       "  <tbody>\n",
       "    <tr>\n",
       "      <th>51317</th>\n",
       "      <td>317</td>\n",
       "      <td>benign</td>\n",
       "      <td>0</td>\n",
       "      <td>0</td>\n",
       "      <td>3069292544</td>\n",
       "      <td>15849</td>\n",
       "      <td>0</td>\n",
       "      <td>0</td>\n",
       "      <td>0</td>\n",
       "      <td>10903</td>\n",
       "      <td>...</td>\n",
       "      <td>0</td>\n",
       "      <td>1</td>\n",
       "      <td>120</td>\n",
       "      <td>0</td>\n",
       "      <td>3204448256</td>\n",
       "      <td>376490</td>\n",
       "      <td>3</td>\n",
       "      <td>0</td>\n",
       "      <td>0</td>\n",
       "      <td>0</td>\n",
       "    </tr>\n",
       "    <tr>\n",
       "      <th>53835</th>\n",
       "      <td>835</td>\n",
       "      <td>benign</td>\n",
       "      <td>0</td>\n",
       "      <td>0</td>\n",
       "      <td>3069784064</td>\n",
       "      <td>19573</td>\n",
       "      <td>0</td>\n",
       "      <td>0</td>\n",
       "      <td>0</td>\n",
       "      <td>15061</td>\n",
       "      <td>...</td>\n",
       "      <td>172</td>\n",
       "      <td>1</td>\n",
       "      <td>120</td>\n",
       "      <td>2</td>\n",
       "      <td>3204448256</td>\n",
       "      <td>388109</td>\n",
       "      <td>4</td>\n",
       "      <td>5</td>\n",
       "      <td>0</td>\n",
       "      <td>0</td>\n",
       "    </tr>\n",
       "    <tr>\n",
       "      <th>54413</th>\n",
       "      <td>413</td>\n",
       "      <td>benign</td>\n",
       "      <td>0</td>\n",
       "      <td>0</td>\n",
       "      <td>3069812736</td>\n",
       "      <td>16559</td>\n",
       "      <td>0</td>\n",
       "      <td>0</td>\n",
       "      <td>0</td>\n",
       "      <td>19563</td>\n",
       "      <td>...</td>\n",
       "      <td>18</td>\n",
       "      <td>1</td>\n",
       "      <td>120</td>\n",
       "      <td>1</td>\n",
       "      <td>3204448256</td>\n",
       "      <td>392959</td>\n",
       "      <td>5</td>\n",
       "      <td>1</td>\n",
       "      <td>0</td>\n",
       "      <td>0</td>\n",
       "    </tr>\n",
       "    <tr>\n",
       "      <th>26613</th>\n",
       "      <td>613</td>\n",
       "      <td>benign</td>\n",
       "      <td>2277376</td>\n",
       "      <td>0</td>\n",
       "      <td>3069960192</td>\n",
       "      <td>17027</td>\n",
       "      <td>0</td>\n",
       "      <td>0</td>\n",
       "      <td>0</td>\n",
       "      <td>17923</td>\n",
       "      <td>...</td>\n",
       "      <td>121</td>\n",
       "      <td>1</td>\n",
       "      <td>120</td>\n",
       "      <td>1</td>\n",
       "      <td>3204448256</td>\n",
       "      <td>392733</td>\n",
       "      <td>5</td>\n",
       "      <td>3</td>\n",
       "      <td>0</td>\n",
       "      <td>0</td>\n",
       "    </tr>\n",
       "  </tbody>\n",
       "</table>\n",
       "<p>4 rows × 34 columns</p>\n",
       "</div>"
      ],
      "text/plain": [
       "       millisecond classification    state  usage_counter        prio  \\\n",
       "51317          317         benign        0              0  3069292544   \n",
       "53835          835         benign        0              0  3069784064   \n",
       "54413          413         benign        0              0  3069812736   \n",
       "26613          613         benign  2277376              0  3069960192   \n",
       "\n",
       "       static_prio  normal_prio  policy  vm_pgoff  vm_truncate_count  ...  \\\n",
       "51317        15849            0       0         0              10903  ...   \n",
       "53835        19573            0       0         0              15061  ...   \n",
       "54413        16559            0       0         0              19563  ...   \n",
       "26613        17027            0       0         0              17923  ...   \n",
       "\n",
       "       nivcsw  min_flt  maj_flt  fs_excl_counter        lock   utime  stime  \\\n",
       "51317       0        1      120                0  3204448256  376490      3   \n",
       "53835     172        1      120                2  3204448256  388109      4   \n",
       "54413      18        1      120                1  3204448256  392959      5   \n",
       "26613     121        1      120                1  3204448256  392733      5   \n",
       "\n",
       "       gtime  cgtime  signal_nvcsw  \n",
       "51317      0       0             0  \n",
       "53835      5       0             0  \n",
       "54413      1       0             0  \n",
       "26613      3       0             0  \n",
       "\n",
       "[4 rows x 34 columns]"
      ]
     },
     "execution_count": 67,
     "metadata": {},
     "output_type": "execute_result"
    }
   ],
   "source": [
    "df.head(4)"
   ]
  },
  {
   "cell_type": "code",
   "execution_count": 68,
   "metadata": {},
   "outputs": [],
   "source": [
    "from sklearn.preprocessing import LabelEncoder\n",
    "le = LabelEncoder()\n",
    "df['target'] = le.fit_transform(df['classification'])"
   ]
  },
  {
   "cell_type": "code",
   "execution_count": 69,
   "metadata": {},
   "outputs": [
    {
     "data": {
      "text/html": [
       "<div>\n",
       "<style scoped>\n",
       "    .dataframe tbody tr th:only-of-type {\n",
       "        vertical-align: middle;\n",
       "    }\n",
       "\n",
       "    .dataframe tbody tr th {\n",
       "        vertical-align: top;\n",
       "    }\n",
       "\n",
       "    .dataframe thead th {\n",
       "        text-align: right;\n",
       "    }\n",
       "</style>\n",
       "<table border=\"1\" class=\"dataframe\">\n",
       "  <thead>\n",
       "    <tr style=\"text-align: right;\">\n",
       "      <th></th>\n",
       "      <th>millisecond</th>\n",
       "      <th>classification</th>\n",
       "      <th>state</th>\n",
       "      <th>usage_counter</th>\n",
       "      <th>prio</th>\n",
       "      <th>static_prio</th>\n",
       "      <th>normal_prio</th>\n",
       "      <th>policy</th>\n",
       "      <th>vm_pgoff</th>\n",
       "      <th>vm_truncate_count</th>\n",
       "      <th>...</th>\n",
       "      <th>min_flt</th>\n",
       "      <th>maj_flt</th>\n",
       "      <th>fs_excl_counter</th>\n",
       "      <th>lock</th>\n",
       "      <th>utime</th>\n",
       "      <th>stime</th>\n",
       "      <th>gtime</th>\n",
       "      <th>cgtime</th>\n",
       "      <th>signal_nvcsw</th>\n",
       "      <th>target</th>\n",
       "    </tr>\n",
       "  </thead>\n",
       "  <tbody>\n",
       "    <tr>\n",
       "      <th>84600</th>\n",
       "      <td>600</td>\n",
       "      <td>malware</td>\n",
       "      <td>122880</td>\n",
       "      <td>0</td>\n",
       "      <td>3069480960</td>\n",
       "      <td>22191</td>\n",
       "      <td>0</td>\n",
       "      <td>0</td>\n",
       "      <td>0</td>\n",
       "      <td>18617</td>\n",
       "      <td>...</td>\n",
       "      <td>0</td>\n",
       "      <td>114</td>\n",
       "      <td>2</td>\n",
       "      <td>3204448256</td>\n",
       "      <td>395729</td>\n",
       "      <td>5</td>\n",
       "      <td>1</td>\n",
       "      <td>0</td>\n",
       "      <td>0</td>\n",
       "      <td>1</td>\n",
       "    </tr>\n",
       "    <tr>\n",
       "      <th>63190</th>\n",
       "      <td>190</td>\n",
       "      <td>malware</td>\n",
       "      <td>1036288</td>\n",
       "      <td>0</td>\n",
       "      <td>3069493248</td>\n",
       "      <td>22175</td>\n",
       "      <td>0</td>\n",
       "      <td>0</td>\n",
       "      <td>0</td>\n",
       "      <td>15104</td>\n",
       "      <td>...</td>\n",
       "      <td>1</td>\n",
       "      <td>114</td>\n",
       "      <td>2</td>\n",
       "      <td>3204448256</td>\n",
       "      <td>381646</td>\n",
       "      <td>4</td>\n",
       "      <td>0</td>\n",
       "      <td>0</td>\n",
       "      <td>0</td>\n",
       "      <td>1</td>\n",
       "    </tr>\n",
       "  </tbody>\n",
       "</table>\n",
       "<p>2 rows × 35 columns</p>\n",
       "</div>"
      ],
      "text/plain": [
       "       millisecond classification    state  usage_counter        prio  \\\n",
       "84600          600        malware   122880              0  3069480960   \n",
       "63190          190        malware  1036288              0  3069493248   \n",
       "\n",
       "       static_prio  normal_prio  policy  vm_pgoff  vm_truncate_count  ...  \\\n",
       "84600        22191            0       0         0              18617  ...   \n",
       "63190        22175            0       0         0              15104  ...   \n",
       "\n",
       "       min_flt  maj_flt  fs_excl_counter        lock   utime  stime  gtime  \\\n",
       "84600        0      114                2  3204448256  395729      5      1   \n",
       "63190        1      114                2  3204448256  381646      4      0   \n",
       "\n",
       "       cgtime  signal_nvcsw  target  \n",
       "84600       0             0       1  \n",
       "63190       0             0       1  \n",
       "\n",
       "[2 rows x 35 columns]"
      ]
     },
     "execution_count": 69,
     "metadata": {},
     "output_type": "execute_result"
    }
   ],
   "source": [
    "df.sample(2)"
   ]
  },
  {
   "cell_type": "code",
   "execution_count": 70,
   "metadata": {},
   "outputs": [],
   "source": [
    "df.drop(columns='classification' , inplace=True)"
   ]
  },
  {
   "cell_type": "code",
   "execution_count": 71,
   "metadata": {},
   "outputs": [],
   "source": [
    "df.sample(2)\n",
    "X=df.drop(columns='target')\n",
    "y=df['target']"
   ]
  },
  {
   "cell_type": "code",
   "execution_count": 72,
   "metadata": {},
   "outputs": [],
   "source": [
    "from sklearn.decomposition import PCA\n",
    "from sklearn.model_selection import train_test_split\n",
    "from sklearn.preprocessing import MinMaxScaler , StandardScaler\n",
    "from sklearn.linear_model import LinearRegression,LogisticRegression\n",
    "from sklearn.neighbors import KNeighborsClassifier\n",
    "from sklearn.metrics import accuracy_score\n"
   ]
  },
  {
   "cell_type": "code",
   "execution_count": 73,
   "metadata": {},
   "outputs": [
    {
     "name": "stdout",
     "output_type": "stream",
     "text": [
      "      millisecond  state  usage_counter        prio  static_prio  normal_prio  \\\n",
      "1134          134      0              0  3069403136        16447            0   \n",
      "\n",
      "      policy  vm_pgoff  vm_truncate_count  task_size  ...  nivcsw  min_flt  \\\n",
      "1134       0         0              18626          0  ...       0        1   \n",
      "\n",
      "      maj_flt  fs_excl_counter        lock   utime  stime  gtime  cgtime  \\\n",
      "1134      120                0  3204448256  390324      5      0       0   \n",
      "\n",
      "      signal_nvcsw  \n",
      "1134             0  \n",
      "\n",
      "[1 rows x 33 columns]\n",
      "97061    1\n",
      "Name: target, dtype: int32\n"
     ]
    }
   ],
   "source": [
    "print(X.sample(1))\n",
    "print(y.sample(1))"
   ]
  },
  {
   "cell_type": "code",
   "execution_count": 74,
   "metadata": {},
   "outputs": [],
   "source": [
    "X_train , X_test , y_train , y_test = train_test_split(X,y,test_size=.3,random_state=42)"
   ]
  },
  {
   "cell_type": "code",
   "execution_count": 75,
   "metadata": {},
   "outputs": [
    {
     "name": "stderr",
     "output_type": "stream",
     "text": [
      "C:\\Users\\alisa\\AppData\\Roaming\\Python\\Python312\\site-packages\\sklearn\\linear_model\\_logistic.py:469: ConvergenceWarning: lbfgs failed to converge (status=1):\n",
      "STOP: TOTAL NO. of ITERATIONS REACHED LIMIT.\n",
      "\n",
      "Increase the number of iterations (max_iter) or scale the data as shown in:\n",
      "    https://scikit-learn.org/stable/modules/preprocessing.html\n",
      "Please also refer to the documentation for alternative solver options:\n",
      "    https://scikit-learn.org/stable/modules/linear_model.html#logistic-regression\n",
      "  n_iter_i = _check_optimize_result(\n"
     ]
    },
    {
     "name": "stdout",
     "output_type": "stream",
     "text": [
      "0.8833333333333333\n",
      "0.8833333333333333\n",
      "0.8833333333333333\n"
     ]
    }
   ],
   "source": [
    "clf1 = LinearRegression()\n",
    "clf2 = LogisticRegression()\n",
    "clf3=KNeighborsClassifier()\n",
    "\n",
    "clf1.fit(X_train,y_train)\n",
    "clf2.fit(X_train,y_train)\n",
    "clf3.fit(X_train,y_train)\n",
    "\n",
    "y_pred1 = clf1.predict(X_test)\n",
    "y_pred2 = clf2.predict(X_test)\n",
    "y_pred3 = clf3.predict(X_test)\n",
    "\n",
    "from sklearn.preprocessing import Binarizer\n",
    "\n",
    "# Assuming y_pred is the predicted probability and y_true is the true binary label\n",
    "y_pred_binarized1 = (y_pred1 > 0.5).astype(int)  # Convert probabilities to 0 or 1\n",
    "print(accuracy_score(y_test, y_pred_binarized1))\n",
    "y_pred_binarized2 = (y_pred1 > 0.5).astype(int)  # Convert probabilities to 0 or 1\n",
    "print(accuracy_score(y_test, y_pred_binarized2))\n",
    "y_pred_binarized3 = (y_pred1 > 0.5).astype(int)  # Convert probabilities to 0 or 1\n",
    "print(accuracy_score(y_test, y_pred_binarized3))\n"
   ]
  },
  {
   "cell_type": "code",
   "execution_count": 76,
   "metadata": {},
   "outputs": [],
   "source": [
    "scale = StandardScaler()\n",
    "\n",
    "X_train = scale.fit_transform(X_train)\n",
    "X_test = scale.fit_transform(X_test)"
   ]
  },
  {
   "cell_type": "code",
   "execution_count": 77,
   "metadata": {},
   "outputs": [
    {
     "data": {
      "text/plain": [
       "array([[-0.44057925, -0.17218867,  0.        , ..., -0.50712311,\n",
       "         0.        ,  0.        ],\n",
       "       [-0.81786647, -0.17218867,  0.        , ..., -0.50712311,\n",
       "         0.        ,  0.        ],\n",
       "       [-0.63095354, -0.17218867,  0.        , ..., -0.1999194 ,\n",
       "         0.        ,  0.        ],\n",
       "       ...,\n",
       "       [ 0.61513269, -0.17218867,  0.        , ..., -0.50712311,\n",
       "         0.        ,  0.        ],\n",
       "       [ 0.09939145, -0.17218867,  0.        , ..., -0.50712311,\n",
       "         0.        ,  0.        ],\n",
       "       [ 1.12741259,  0.97289439,  0.        , ..., -0.1999194 ,\n",
       "         0.        ,  0.        ]])"
      ]
     },
     "execution_count": 77,
     "metadata": {},
     "output_type": "execute_result"
    }
   ],
   "source": [
    "X_train"
   ]
  },
  {
   "cell_type": "code",
   "execution_count": 78,
   "metadata": {},
   "outputs": [],
   "source": [
    "clf1 = LinearRegression()\n",
    "clf2 = LogisticRegression()\n",
    "clf3=KNeighborsClassifier()\n",
    "\n",
    "clf1.fit(X_train,y_train)\n",
    "clf2.fit(X_train,y_train)\n",
    "clf3.fit(X_train,y_train)\n",
    "\n",
    "y_pred1 = clf1.predict(X_test)\n",
    "y_pred2 = clf2.predict(X_test)\n",
    "y_pred3 = clf3.predict(X_test)\n"
   ]
  },
  {
   "cell_type": "code",
   "execution_count": null,
   "metadata": {},
   "outputs": [],
   "source": []
  },
  {
   "cell_type": "code",
   "execution_count": 79,
   "metadata": {},
   "outputs": [
    {
     "name": "stdout",
     "output_type": "stream",
     "text": [
      "0.8847666666666667\n",
      "0.8847666666666667\n",
      "0.8847666666666667\n"
     ]
    }
   ],
   "source": [
    "from sklearn.preprocessing import Binarizer\n",
    "\n",
    "# Assuming y_pred is the predicted probability and y_true is the true binary label\n",
    "y_pred_binarized1 = (y_pred1 > 0.5).astype(int)  # Convert probabilities to 0 or 1\n",
    "print(accuracy_score(y_test, y_pred_binarized1))\n",
    "y_pred_binarized2 = (y_pred1 > 0.5).astype(int)  # Convert probabilities to 0 or 1\n",
    "print(accuracy_score(y_test, y_pred_binarized2))\n",
    "y_pred_binarized3 = (y_pred1 > 0.5).astype(int)  # Convert probabilities to 0 or 1\n",
    "print(accuracy_score(y_test, y_pred_binarized3))"
   ]
  },
  {
   "cell_type": "markdown",
   "metadata": {},
   "source": [
    "PCA"
   ]
  },
  {
   "cell_type": "code",
   "execution_count": 80,
   "metadata": {},
   "outputs": [],
   "source": [
    "pca = PCA(n_components=10)\n",
    "\n",
    "X_train_trf = pca.fit_transform(X_train)\n",
    "X_test_trf = pca.fit_transform(X_test)"
   ]
  },
  {
   "cell_type": "code",
   "execution_count": 81,
   "metadata": {},
   "outputs": [],
   "source": [
    "clf1 = LinearRegression()\n",
    "clf2 = LogisticRegression()\n",
    "clf3=KNeighborsClassifier()\n",
    "\n",
    "clf1.fit(X_train_trf,y_train)\n",
    "clf2.fit(X_train_trf,y_train)\n",
    "clf3.fit(X_train_trf,y_train)\n",
    "\n",
    "y_pred1 = clf1.predict(X_test_trf)\n",
    "y_pred2 = clf2.predict(X_test_trf)\n",
    "y_pred3 = clf3.predict(X_test_trf)"
   ]
  },
  {
   "cell_type": "code",
   "execution_count": 82,
   "metadata": {},
   "outputs": [
    {
     "name": "stdout",
     "output_type": "stream",
     "text": [
      "0.8134666666666667\n",
      "0.8134666666666667\n",
      "0.8134666666666667\n"
     ]
    }
   ],
   "source": [
    "# Assuming y_pred is the predicted probability and y_true is the true binary label\n",
    "y_pred_binarized1 = (y_pred1 > 0.5).astype(int)  # Convert probabilities to 0 or 1\n",
    "print(accuracy_score(y_test, y_pred_binarized1))\n",
    "y_pred_binarized2 = (y_pred1 > 0.5).astype(int)  # Convert probabilities to 0 or 1\n",
    "print(accuracy_score(y_test, y_pred_binarized2))\n",
    "y_pred_binarized3 = (y_pred1 > 0.5).astype(int)  # Convert probabilities to 0 or 1\n",
    "print(accuracy_score(y_test, y_pred_binarized3))"
   ]
  },
  {
   "cell_type": "code",
   "execution_count": 83,
   "metadata": {},
   "outputs": [
    {
     "data": {
      "text/plain": [
       "array([8.57694057, 2.41635232, 2.03948804, 1.55757045, 1.36272727,\n",
       "       1.07307468, 0.99668566, 0.93342018, 0.83547594, 0.53766471])"
      ]
     },
     "execution_count": 83,
     "metadata": {},
     "output_type": "execute_result"
    }
   ],
   "source": [
    "pca.explained_variance_"
   ]
  },
  {
   "cell_type": "code",
   "execution_count": 85,
   "metadata": {},
   "outputs": [
    {
     "data": {
      "text/plain": [
       "(10, 33)"
      ]
     },
     "execution_count": 85,
     "metadata": {},
     "output_type": "execute_result"
    }
   ],
   "source": [
    "pca.components_.shape"
   ]
  },
  {
   "cell_type": "code",
   "execution_count": 84,
   "metadata": {},
   "outputs": [
    {
     "data": {
      "text/plain": [
       "array([0.38984794, 0.10983054, 0.09270091, 0.0707963 , 0.06194008,\n",
       "       0.0487745 , 0.04530238, 0.04242678, 0.03797491, 0.02443849])"
      ]
     },
     "execution_count": 84,
     "metadata": {},
     "output_type": "execute_result"
    }
   ],
   "source": [
    "pca.explained_variance_ratio_"
   ]
  },
  {
   "cell_type": "code",
   "execution_count": 86,
   "metadata": {},
   "outputs": [],
   "source": [
    "pca = PCA(n_components=None)\n",
    "\n",
    "X_train_trf = pca.fit_transform(X_train)\n",
    "X_test_trf = pca.fit_transform(X_test)"
   ]
  },
  {
   "cell_type": "code",
   "execution_count": 87,
   "metadata": {},
   "outputs": [
    {
     "data": {
      "text/plain": [
       "(33,)"
      ]
     },
     "execution_count": 87,
     "metadata": {},
     "output_type": "execute_result"
    }
   ],
   "source": [
    "pca.explained_variance_.shape"
   ]
  },
  {
   "cell_type": "code",
   "execution_count": 89,
   "metadata": {},
   "outputs": [
    {
     "data": {
      "text/plain": [
       "(33, 33)"
      ]
     },
     "execution_count": 89,
     "metadata": {},
     "output_type": "execute_result"
    }
   ],
   "source": [
    "pca.components_.shape # 33 PC in 33-D space"
   ]
  },
  {
   "cell_type": "code",
   "execution_count": 90,
   "metadata": {},
   "outputs": [
    {
     "data": {
      "text/plain": [
       "array([3.89847940e-01, 1.09830535e-01, 9.27009118e-02, 7.07962967e-02,\n",
       "       6.19400838e-02, 4.87744960e-02, 4.53023834e-02, 4.24267757e-02,\n",
       "       3.79749133e-02, 2.44384905e-02, 1.96652978e-02, 1.70210993e-02,\n",
       "       1.11445224e-02, 9.91756792e-03, 7.01810589e-03, 4.87272949e-03,\n",
       "       3.41547635e-03, 1.56247092e-03, 8.80541480e-04, 4.69362444e-04,\n",
       "       3.87372776e-17, 3.13794595e-17, 2.45728301e-17, 1.83573454e-17,\n",
       "       1.36823969e-17, 5.37115097e-18, 0.00000000e+00, 0.00000000e+00,\n",
       "       0.00000000e+00, 0.00000000e+00, 0.00000000e+00, 0.00000000e+00,\n",
       "       0.00000000e+00])"
      ]
     },
     "execution_count": 90,
     "metadata": {},
     "output_type": "execute_result"
    }
   ],
   "source": [
    "pca.explained_variance_ratio_ # i need sum(explained_variance_ratio_)=90% like 3.89 + 1.0 =4.89+9.27 = 14.16"
   ]
  },
  {
   "cell_type": "code",
   "execution_count": 91,
   "metadata": {},
   "outputs": [
    {
     "data": {
      "text/plain": [
       "array([0.38984794, 0.49967847, 0.59237939, 0.66317568, 0.72511577,\n",
       "       0.77389026, 0.81919265, 0.86161942, 0.89959434, 0.92403283,\n",
       "       0.94369812, 0.96071922, 0.97186375, 0.98178131, 0.98879942,\n",
       "       0.99367215, 0.99708763, 0.9986501 , 0.99953064, 1.        ,\n",
       "       1.        , 1.        , 1.        , 1.        , 1.        ,\n",
       "       1.        , 1.        , 1.        , 1.        , 1.        ,\n",
       "       1.        , 1.        , 1.        ])"
      ]
     },
     "execution_count": 91,
     "metadata": {},
     "output_type": "execute_result"
    }
   ],
   "source": [
    "np.cumsum(pca.explained_variance_ratio_)"
   ]
  },
  {
   "cell_type": "code",
   "execution_count": 92,
   "metadata": {},
   "outputs": [
    {
     "data": {
      "text/plain": [
       "[<matplotlib.lines.Line2D at 0x24a17a43560>]"
      ]
     },
     "execution_count": 92,
     "metadata": {},
     "output_type": "execute_result"
    },
    {
     "data": {
      "image/png": "[encoded data removed]",
      "text/plain": [
       "<Figure size 640x480 with 1 Axes>"
      ]
     },
     "metadata": {},
     "output_type": "display_data"
    }
   ],
   "source": [
    "import matplotlib.pyplot as plt\n",
    "plt.plot(np.cumsum(pca.explained_variance_ratio_))"
   ]
  },
  {
   "cell_type": "code",
   "execution_count": null,
   "metadata": {},
   "outputs": [],
   "source": []
  }
 ],
 "metadata": {
  "kernelspec": {
   "display_name": "Python 3",
   "language": "python",
   "name": "python3"
  },
  "language_info": {
   "codemirror_mode": {
    "name": "ipython",
    "version": 3
   },
   "file_extension": ".py",
   "mimetype": "text/x-python",
   "name": "python",
   "nbconvert_exporter": "python",
   "pygments_lexer": "ipython3",
   "version": "3.12.1"
  }
 },
 "nbformat": 4,
 "nbformat_minor": 2
}
