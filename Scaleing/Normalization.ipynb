{
 "cells": [
  {
   "cell_type": "code",
   "execution_count": 5,
   "metadata": {},
   "outputs": [],
   "source": [
    "import pandas as pd\n",
    "\n",
    "# Raw link of the CSV file\n",
    "url = \"https://raw.githubusercontent.com/campusx-official/100-days-of-machine-learning/main/day24-standardization/Social_Network_Ads.csv\"\n",
    "\n",
    "# Read the CSV file into a DataFrame\n",
    "df = pd.read_csv(url)\n"
   ]
  },
  {
   "cell_type": "code",
   "execution_count": 6,
   "metadata": {},
   "outputs": [
    {
     "data": {
      "text/html": [
       "<div>\n",
       "<style scoped>\n",
       "    .dataframe tbody tr th:only-of-type {\n",
       "        vertical-align: middle;\n",
       "    }\n",
       "\n",
       "    .dataframe tbody tr th {\n",
       "        vertical-align: top;\n",
       "    }\n",
       "\n",
       "    .dataframe thead th {\n",
       "        text-align: right;\n",
       "    }\n",
       "</style>\n",
       "<table border=\"1\" class=\"dataframe\">\n",
       "  <thead>\n",
       "    <tr style=\"text-align: right;\">\n",
       "      <th></th>\n",
       "      <th>User ID</th>\n",
       "      <th>Gender</th>\n",
       "      <th>Age</th>\n",
       "      <th>EstimatedSalary</th>\n",
       "      <th>Purchased</th>\n",
       "    </tr>\n",
       "  </thead>\n",
       "  <tbody>\n",
       "    <tr>\n",
       "      <th>246</th>\n",
       "      <td>15638003</td>\n",
       "      <td>Female</td>\n",
       "      <td>35</td>\n",
       "      <td>50000</td>\n",
       "      <td>0</td>\n",
       "    </tr>\n",
       "    <tr>\n",
       "      <th>346</th>\n",
       "      <td>15646936</td>\n",
       "      <td>Male</td>\n",
       "      <td>53</td>\n",
       "      <td>72000</td>\n",
       "      <td>1</td>\n",
       "    </tr>\n",
       "    <tr>\n",
       "      <th>93</th>\n",
       "      <td>15699284</td>\n",
       "      <td>Female</td>\n",
       "      <td>29</td>\n",
       "      <td>28000</td>\n",
       "      <td>0</td>\n",
       "    </tr>\n",
       "  </tbody>\n",
       "</table>\n",
       "</div>"
      ],
      "text/plain": [
       "      User ID  Gender  Age  EstimatedSalary  Purchased\n",
       "246  15638003  Female   35            50000          0\n",
       "346  15646936    Male   53            72000          1\n",
       "93   15699284  Female   29            28000          0"
      ]
     },
     "execution_count": 6,
     "metadata": {},
     "output_type": "execute_result"
    }
   ],
   "source": [
    "df.sample(3)"
   ]
  },
  {
   "cell_type": "code",
   "execution_count": 7,
   "metadata": {},
   "outputs": [
    {
     "data": {
      "text/html": [
       "<div>\n",
       "<style scoped>\n",
       "    .dataframe tbody tr th:only-of-type {\n",
       "        vertical-align: middle;\n",
       "    }\n",
       "\n",
       "    .dataframe tbody tr th {\n",
       "        vertical-align: top;\n",
       "    }\n",
       "\n",
       "    .dataframe thead th {\n",
       "        text-align: right;\n",
       "    }\n",
       "</style>\n",
       "<table border=\"1\" class=\"dataframe\">\n",
       "  <thead>\n",
       "    <tr style=\"text-align: right;\">\n",
       "      <th></th>\n",
       "      <th>Age</th>\n",
       "      <th>EstimatedSalary</th>\n",
       "      <th>Purchased</th>\n",
       "    </tr>\n",
       "  </thead>\n",
       "  <tbody>\n",
       "    <tr>\n",
       "      <th>380</th>\n",
       "      <td>42</td>\n",
       "      <td>64000</td>\n",
       "      <td>0</td>\n",
       "    </tr>\n",
       "    <tr>\n",
       "      <th>130</th>\n",
       "      <td>31</td>\n",
       "      <td>58000</td>\n",
       "      <td>0</td>\n",
       "    </tr>\n",
       "    <tr>\n",
       "      <th>234</th>\n",
       "      <td>38</td>\n",
       "      <td>112000</td>\n",
       "      <td>0</td>\n",
       "    </tr>\n",
       "  </tbody>\n",
       "</table>\n",
       "</div>"
      ],
      "text/plain": [
       "     Age  EstimatedSalary  Purchased\n",
       "380   42            64000          0\n",
       "130   31            58000          0\n",
       "234   38           112000          0"
      ]
     },
     "execution_count": 7,
     "metadata": {},
     "output_type": "execute_result"
    }
   ],
   "source": [
    "df = df.iloc[:,2:]\n",
    "df.sample(3)"
   ]
  },
  {
   "cell_type": "code",
   "execution_count": 8,
   "metadata": {},
   "outputs": [],
   "source": [
    "import seaborn as sns"
   ]
  },
  {
   "cell_type": "code",
   "execution_count": 9,
   "metadata": {},
   "outputs": [
    {
     "data": {
      "text/plain": [
       "<Axes: xlabel='Age', ylabel='Density'>"
      ]
     },
     "execution_count": 9,
     "metadata": {},
     "output_type": "execute_result"
    },
    {
     "data": {
      "image/png": "[encoded data removed]",
      "text/plain": [
       "<Figure size 640x480 with 1 Axes>"
      ]
     },
     "metadata": {},
     "output_type": "display_data"
    }
   ],
   "source": [
    "sns.kdeplot(df[\"Age\"])"
   ]
  },
  {
   "cell_type": "code",
   "execution_count": 10,
   "metadata": {},
   "outputs": [
    {
     "data": {
      "text/plain": [
       "<Axes: xlabel='EstimatedSalary', ylabel='Density'>"
      ]
     },
     "execution_count": 10,
     "metadata": {},
     "output_type": "execute_result"
    },
    {
     "data": {
      "image/png": "[encoded data removed]",
      "text/plain": [
       "<Figure size 640x480 with 1 Axes>"
      ]
     },
     "metadata": {},
     "output_type": "display_data"
    }
   ],
   "source": [
    "sns.kdeplot(df[\"EstimatedSalary\"])"
   ]
  },
  {
   "cell_type": "code",
   "execution_count": 11,
   "metadata": {},
   "outputs": [
    {
     "data": {
      "text/html": [
       "<div>\n",
       "<style scoped>\n",
       "    .dataframe tbody tr th:only-of-type {\n",
       "        vertical-align: middle;\n",
       "    }\n",
       "\n",
       "    .dataframe tbody tr th {\n",
       "        vertical-align: top;\n",
       "    }\n",
       "\n",
       "    .dataframe thead th {\n",
       "        text-align: right;\n",
       "    }\n",
       "</style>\n",
       "<table border=\"1\" class=\"dataframe\">\n",
       "  <thead>\n",
       "    <tr style=\"text-align: right;\">\n",
       "      <th></th>\n",
       "      <th>Age</th>\n",
       "      <th>EstimatedSalary</th>\n",
       "      <th>Purchased</th>\n",
       "    </tr>\n",
       "  </thead>\n",
       "  <tbody>\n",
       "    <tr>\n",
       "      <th>209</th>\n",
       "      <td>46</td>\n",
       "      <td>22000</td>\n",
       "      <td>0</td>\n",
       "    </tr>\n",
       "    <tr>\n",
       "      <th>388</th>\n",
       "      <td>47</td>\n",
       "      <td>34000</td>\n",
       "      <td>1</td>\n",
       "    </tr>\n",
       "  </tbody>\n",
       "</table>\n",
       "</div>"
      ],
      "text/plain": [
       "     Age  EstimatedSalary  Purchased\n",
       "209   46            22000          0\n",
       "388   47            34000          1"
      ]
     },
     "execution_count": 11,
     "metadata": {},
     "output_type": "execute_result"
    }
   ],
   "source": [
    "df.sample(2)"
   ]
  },
  {
   "cell_type": "code",
   "execution_count": 14,
   "metadata": {},
   "outputs": [
    {
     "name": "stdout",
     "output_type": "stream",
     "text": [
      "     Age  EstimatedSalary\n",
      "290   39           134000\n",
      "     Purchased\n",
      "370          1\n"
     ]
    }
   ],
   "source": [
    "X = df.iloc[:,0:2]\n",
    "print(X.sample(1))\n",
    "y = df.iloc[:,-1:]\n",
    "print(y.sample(1))"
   ]
  },
  {
   "cell_type": "code",
   "execution_count": 15,
   "metadata": {},
   "outputs": [],
   "source": [
    "from sklearn.model_selection import train_test_split\n",
    "\n",
    "X_train,X_test,y_train,y_test = train_test_split(X,y,test_size=.3 , random_state=0)"
   ]
  },
  {
   "cell_type": "code",
   "execution_count": 17,
   "metadata": {},
   "outputs": [
    {
     "name": "stdout",
     "output_type": "stream",
     "text": [
      "    Age  EstimatedSalary\n",
      "76   18            52000\n",
      "     Purchased\n",
      "390          1\n",
      "    Age  EstimatedSalary\n",
      "18   46            28000\n",
      "     Purchased\n",
      "377          0\n"
     ]
    }
   ],
   "source": [
    "print(X_test.sample(1))\n",
    "print(y_test.sample(1))\n",
    "print(X_train.sample(1))\n",
    "print(y_train.sample(1))"
   ]
  },
  {
   "cell_type": "code",
   "execution_count": 18,
   "metadata": {},
   "outputs": [],
   "source": [
    "from sklearn.preprocessing import MinMaxScaler\n",
    "scaler = MinMaxScaler()"
   ]
  },
  {
   "cell_type": "code",
   "execution_count": 19,
   "metadata": {},
   "outputs": [],
   "source": [
    "scaler.fit(X_train)\n",
    "\n",
    "X_train_scaled = scaler.transform(X_train)\n",
    "X_test_scaler = scaler.transform(X_test)"
   ]
  },
  {
   "cell_type": "code",
   "execution_count": 21,
   "metadata": {},
   "outputs": [
    {
     "data": {
      "text/html": [
       "<div>\n",
       "<style scoped>\n",
       "    .dataframe tbody tr th:only-of-type {\n",
       "        vertical-align: middle;\n",
       "    }\n",
       "\n",
       "    .dataframe tbody tr th {\n",
       "        vertical-align: top;\n",
       "    }\n",
       "\n",
       "    .dataframe thead th {\n",
       "        text-align: right;\n",
       "    }\n",
       "</style>\n",
       "<table border=\"1\" class=\"dataframe\">\n",
       "  <thead>\n",
       "    <tr style=\"text-align: right;\">\n",
       "      <th></th>\n",
       "      <th>Age</th>\n",
       "      <th>EstimatedSalary</th>\n",
       "    </tr>\n",
       "  </thead>\n",
       "  <tbody>\n",
       "    <tr>\n",
       "      <th>count</th>\n",
       "      <td>280.0</td>\n",
       "      <td>280.0</td>\n",
       "    </tr>\n",
       "    <tr>\n",
       "      <th>mean</th>\n",
       "      <td>37.9</td>\n",
       "      <td>69807.1</td>\n",
       "    </tr>\n",
       "    <tr>\n",
       "      <th>std</th>\n",
       "      <td>10.2</td>\n",
       "      <td>34641.2</td>\n",
       "    </tr>\n",
       "    <tr>\n",
       "      <th>min</th>\n",
       "      <td>18.0</td>\n",
       "      <td>15000.0</td>\n",
       "    </tr>\n",
       "    <tr>\n",
       "      <th>25%</th>\n",
       "      <td>30.0</td>\n",
       "      <td>43000.0</td>\n",
       "    </tr>\n",
       "    <tr>\n",
       "      <th>50%</th>\n",
       "      <td>37.0</td>\n",
       "      <td>70500.0</td>\n",
       "    </tr>\n",
       "    <tr>\n",
       "      <th>75%</th>\n",
       "      <td>46.0</td>\n",
       "      <td>88000.0</td>\n",
       "    </tr>\n",
       "    <tr>\n",
       "      <th>max</th>\n",
       "      <td>60.0</td>\n",
       "      <td>150000.0</td>\n",
       "    </tr>\n",
       "  </tbody>\n",
       "</table>\n",
       "</div>"
      ],
      "text/plain": [
       "         Age  EstimatedSalary\n",
       "count  280.0            280.0\n",
       "mean    37.9          69807.1\n",
       "std     10.2          34641.2\n",
       "min     18.0          15000.0\n",
       "25%     30.0          43000.0\n",
       "50%     37.0          70500.0\n",
       "75%     46.0          88000.0\n",
       "max     60.0         150000.0"
      ]
     },
     "execution_count": 21,
     "metadata": {},
     "output_type": "execute_result"
    }
   ],
   "source": [
    "import numpy as np\n",
    "np.round(X_train.describe() , 1)"
   ]
  },
  {
   "cell_type": "code",
   "execution_count": 25,
   "metadata": {},
   "outputs": [
    {
     "data": {
      "text/plain": [
       "array([[0.19047619, 0.        ],\n",
       "       [1.        , 0.64444444],\n",
       "       [0.47619048, 0.71851852],\n",
       "       [0.52380952, 0.68148148],\n",
       "       [0.57142857, 0.28148148],\n",
       "       [0.4047619 , 0.32592593],\n",
       "       [0.71428571, 0.19259259],\n",
       "       [0.71428571, 0.88148148],\n",
       "       [0.47619048, 0.72592593],\n",
       "       [0.26190476, 0.98518519],\n",
       "       [0.19047619, 0.        ],\n",
       "       [1.        , 0.2       ],\n",
       "       [0.14285714, 0.02962963],\n",
       "       [0.57142857, 0.99259259],\n",
       "       [0.66666667, 0.6       ],\n",
       "       [0.23809524, 0.32592593],\n",
       "       [0.5       , 0.6       ],\n",
       "       [0.23809524, 0.54814815],\n",
       "       [0.54761905, 0.42222222],\n",
       "       [0.64285714, 0.08148148],\n",
       "       [0.35714286, 0.4       ],\n",
       "       [0.04761905, 0.4962963 ],\n",
       "       [0.30952381, 0.43703704],\n",
       "       [0.57142857, 0.48148148],\n",
       "       [0.4047619 , 0.42222222],\n",
       "       [0.35714286, 0.99259259],\n",
       "       [0.52380952, 0.41481481],\n",
       "       [0.78571429, 0.97037037],\n",
       "       [0.66666667, 0.47407407],\n",
       "       [0.4047619 , 0.44444444],\n",
       "       [0.47619048, 0.26666667],\n",
       "       [0.42857143, 0.44444444],\n",
       "       [0.45238095, 0.46666667],\n",
       "       [0.47619048, 0.34074074],\n",
       "       [1.        , 0.68888889],\n",
       "       [0.04761905, 0.4962963 ],\n",
       "       [0.92857143, 0.43703704],\n",
       "       [0.57142857, 0.37037037],\n",
       "       [0.19047619, 0.48148148],\n",
       "       [0.66666667, 0.75555556],\n",
       "       [0.4047619 , 0.34074074],\n",
       "       [0.07142857, 0.39259259],\n",
       "       [0.23809524, 0.21481481],\n",
       "       [0.54761905, 0.53333333],\n",
       "       [0.45238095, 0.13333333],\n",
       "       [0.21428571, 0.55555556],\n",
       "       [0.5       , 0.2       ],\n",
       "       [0.23809524, 0.8       ],\n",
       "       [0.30952381, 0.76296296],\n",
       "       [0.16666667, 0.53333333],\n",
       "       [0.4047619 , 0.41481481],\n",
       "       [0.45238095, 0.40740741],\n",
       "       [0.4047619 , 0.17777778],\n",
       "       [0.69047619, 0.05925926],\n",
       "       [0.4047619 , 0.97777778],\n",
       "       [0.71428571, 0.91111111],\n",
       "       [0.19047619, 0.52592593],\n",
       "       [0.16666667, 0.47407407],\n",
       "       [0.80952381, 0.91111111],\n",
       "       [0.78571429, 0.05925926],\n",
       "       [0.4047619 , 0.33333333],\n",
       "       [0.35714286, 0.72592593],\n",
       "       [0.28571429, 0.68148148],\n",
       "       [0.71428571, 0.13333333],\n",
       "       [0.54761905, 0.48148148],\n",
       "       [0.71428571, 0.6       ],\n",
       "       [0.30952381, 0.02222222],\n",
       "       [0.30952381, 0.41481481],\n",
       "       [0.5952381 , 0.84444444],\n",
       "       [0.97619048, 0.45185185],\n",
       "       [0.        , 0.21481481],\n",
       "       [0.42857143, 0.76296296],\n",
       "       [0.57142857, 0.55555556],\n",
       "       [0.69047619, 0.11111111],\n",
       "       [0.19047619, 0.20740741],\n",
       "       [0.52380952, 0.46666667],\n",
       "       [0.66666667, 0.32592593],\n",
       "       [0.97619048, 0.2       ],\n",
       "       [0.66666667, 0.43703704],\n",
       "       [0.4047619 , 0.56296296],\n",
       "       [0.23809524, 0.32592593],\n",
       "       [0.52380952, 0.31111111],\n",
       "       [0.97619048, 0.94814815],\n",
       "       [0.92857143, 0.08148148],\n",
       "       [0.80952381, 0.17037037],\n",
       "       [0.69047619, 0.72592593],\n",
       "       [0.83333333, 0.94814815],\n",
       "       [0.4047619 , 0.08888889],\n",
       "       [0.95238095, 0.63703704],\n",
       "       [0.64285714, 0.22222222],\n",
       "       [0.11904762, 0.4962963 ],\n",
       "       [0.66666667, 0.05925926],\n",
       "       [0.57142857, 0.37037037],\n",
       "       [0.23809524, 0.51111111],\n",
       "       [0.47619048, 0.32592593],\n",
       "       [0.19047619, 0.51111111],\n",
       "       [0.26190476, 0.0962963 ],\n",
       "       [0.45238095, 0.41481481],\n",
       "       [0.0952381 , 0.2962963 ],\n",
       "       [0.71428571, 0.14814815],\n",
       "       [0.73809524, 0.0962963 ],\n",
       "       [0.47619048, 0.37037037],\n",
       "       [0.21428571, 0.01481481],\n",
       "       [0.66666667, 0.0962963 ],\n",
       "       [0.71428571, 0.93333333],\n",
       "       [0.19047619, 0.01481481],\n",
       "       [0.4047619 , 0.60740741],\n",
       "       [0.5       , 0.32592593],\n",
       "       [0.14285714, 0.08888889],\n",
       "       [0.33333333, 0.02222222],\n",
       "       [0.66666667, 0.54074074],\n",
       "       [0.4047619 , 0.31851852],\n",
       "       [0.9047619 , 0.33333333],\n",
       "       [0.69047619, 0.14074074],\n",
       "       [0.52380952, 0.42222222],\n",
       "       [0.33333333, 0.62962963],\n",
       "       [0.02380952, 0.04444444],\n",
       "       [0.16666667, 0.55555556],\n",
       "       [0.4047619 , 0.54074074],\n",
       "       [0.23809524, 0.12592593],\n",
       "       [0.76190476, 0.03703704],\n",
       "       [0.52380952, 0.32592593],\n",
       "       [0.76190476, 0.21481481],\n",
       "       [0.4047619 , 0.42222222],\n",
       "       [0.52380952, 0.94074074],\n",
       "       [0.66666667, 0.12592593],\n",
       "       [0.5       , 0.41481481],\n",
       "       [0.04761905, 0.43703704],\n",
       "       [0.26190476, 0.44444444],\n",
       "       [0.30952381, 0.45185185],\n",
       "       [0.69047619, 0.07407407],\n",
       "       [0.52380952, 0.34074074],\n",
       "       [0.38095238, 0.71851852],\n",
       "       [0.47619048, 0.48148148],\n",
       "       [0.57142857, 0.44444444],\n",
       "       [0.69047619, 0.23703704],\n",
       "       [0.5       , 0.44444444],\n",
       "       [0.02380952, 0.07407407],\n",
       "       [0.45238095, 0.48148148],\n",
       "       [0.42857143, 0.33333333],\n",
       "       [0.54761905, 0.27407407],\n",
       "       [0.42857143, 0.81481481],\n",
       "       [0.71428571, 0.1037037 ],\n",
       "       [0.42857143, 0.82222222],\n",
       "       [0.78571429, 0.88148148],\n",
       "       [0.21428571, 0.31111111],\n",
       "       [0.47619048, 0.41481481],\n",
       "       [0.5       , 0.34074074],\n",
       "       [0.0952381 , 0.08888889],\n",
       "       [0.35714286, 0.33333333],\n",
       "       [0.71428571, 0.43703704],\n",
       "       [0.95238095, 0.05925926],\n",
       "       [0.83333333, 0.42222222],\n",
       "       [0.33333333, 0.75555556],\n",
       "       [0.85714286, 0.40740741],\n",
       "       [0.28571429, 0.48148148],\n",
       "       [0.95238095, 0.59259259],\n",
       "       [0.19047619, 0.27407407],\n",
       "       [0.64285714, 0.47407407],\n",
       "       [0.14285714, 0.2962963 ],\n",
       "       [0.52380952, 0.44444444],\n",
       "       [0.35714286, 0.0962963 ],\n",
       "       [0.61904762, 0.91851852],\n",
       "       [0.0952381 , 0.02222222],\n",
       "       [0.35714286, 0.26666667],\n",
       "       [0.5952381 , 0.87407407],\n",
       "       [0.14285714, 0.12592593],\n",
       "       [0.66666667, 0.05185185],\n",
       "       [0.4047619 , 0.2962963 ],\n",
       "       [0.85714286, 0.65925926],\n",
       "       [0.71428571, 0.77037037],\n",
       "       [0.4047619 , 0.28148148],\n",
       "       [0.45238095, 0.95555556],\n",
       "       [0.11904762, 0.37777778],\n",
       "       [0.45238095, 0.9037037 ],\n",
       "       [0.30952381, 0.31851852],\n",
       "       [0.35714286, 0.19259259],\n",
       "       [0.64285714, 0.05185185],\n",
       "       [0.28571429, 0.        ],\n",
       "       [0.02380952, 0.02962963],\n",
       "       [0.73809524, 0.43703704],\n",
       "       [0.5       , 0.79259259],\n",
       "       [0.4047619 , 0.42962963],\n",
       "       [0.5       , 0.41481481],\n",
       "       [0.14285714, 0.05925926],\n",
       "       [0.54761905, 0.42222222],\n",
       "       [0.26190476, 0.5037037 ],\n",
       "       [0.85714286, 0.08148148],\n",
       "       [0.4047619 , 0.21481481],\n",
       "       [0.45238095, 0.44444444],\n",
       "       [0.26190476, 0.23703704],\n",
       "       [0.30952381, 0.39259259],\n",
       "       [0.57142857, 0.28888889],\n",
       "       [0.28571429, 0.88888889],\n",
       "       [0.80952381, 0.73333333],\n",
       "       [0.76190476, 0.15555556],\n",
       "       [0.9047619 , 0.87407407],\n",
       "       [0.26190476, 0.34074074],\n",
       "       [0.28571429, 0.54814815],\n",
       "       [0.19047619, 0.00740741],\n",
       "       [0.35714286, 0.11851852],\n",
       "       [0.54761905, 0.42222222],\n",
       "       [0.42857143, 0.13333333],\n",
       "       [0.88095238, 0.81481481],\n",
       "       [0.71428571, 0.85925926],\n",
       "       [0.54761905, 0.41481481],\n",
       "       [0.28571429, 0.34814815],\n",
       "       [0.45238095, 0.42222222],\n",
       "       [0.54761905, 0.35555556],\n",
       "       [0.95238095, 0.23703704],\n",
       "       [0.28571429, 0.74814815],\n",
       "       [0.04761905, 0.25185185],\n",
       "       [0.45238095, 0.43703704],\n",
       "       [0.54761905, 0.32592593],\n",
       "       [0.73809524, 0.54814815],\n",
       "       [0.23809524, 0.47407407],\n",
       "       [0.83333333, 0.4962963 ],\n",
       "       [0.52380952, 0.31111111],\n",
       "       [1.        , 0.14074074],\n",
       "       [0.4047619 , 0.68888889],\n",
       "       [0.07142857, 0.42222222],\n",
       "       [0.47619048, 0.41481481],\n",
       "       [0.5       , 0.67407407],\n",
       "       [0.45238095, 0.31111111],\n",
       "       [0.19047619, 0.42222222],\n",
       "       [0.4047619 , 0.05925926],\n",
       "       [0.85714286, 0.68888889],\n",
       "       [0.28571429, 0.01481481],\n",
       "       [0.5       , 0.88148148],\n",
       "       [0.26190476, 0.20740741],\n",
       "       [0.35714286, 0.20740741],\n",
       "       [0.4047619 , 0.17037037],\n",
       "       [0.54761905, 0.22222222],\n",
       "       [0.54761905, 0.42222222],\n",
       "       [0.5       , 0.88148148],\n",
       "       [0.21428571, 0.9037037 ],\n",
       "       [0.07142857, 0.00740741],\n",
       "       [0.19047619, 0.12592593],\n",
       "       [0.30952381, 0.37777778],\n",
       "       [0.5       , 0.42962963],\n",
       "       [0.54761905, 0.47407407],\n",
       "       [0.69047619, 0.25925926],\n",
       "       [0.54761905, 0.11111111],\n",
       "       [0.45238095, 0.57777778],\n",
       "       [1.        , 0.22962963],\n",
       "       [0.16666667, 0.05185185],\n",
       "       [0.23809524, 0.16296296],\n",
       "       [0.47619048, 0.2962963 ],\n",
       "       [0.42857143, 0.28888889],\n",
       "       [0.04761905, 0.15555556],\n",
       "       [0.9047619 , 0.65925926],\n",
       "       [0.52380952, 0.31111111],\n",
       "       [0.57142857, 0.68888889],\n",
       "       [0.04761905, 0.05925926],\n",
       "       [0.52380952, 0.37037037],\n",
       "       [0.69047619, 0.03703704],\n",
       "       [0.        , 0.52592593],\n",
       "       [0.4047619 , 0.47407407],\n",
       "       [0.92857143, 0.13333333],\n",
       "       [0.38095238, 0.42222222],\n",
       "       [0.73809524, 0.17777778],\n",
       "       [0.21428571, 0.11851852],\n",
       "       [0.02380952, 0.40740741],\n",
       "       [0.5       , 0.47407407],\n",
       "       [0.19047619, 0.48888889],\n",
       "       [0.16666667, 0.48148148],\n",
       "       [0.23809524, 0.51851852],\n",
       "       [0.88095238, 0.17777778],\n",
       "       [0.76190476, 0.54074074],\n",
       "       [0.73809524, 0.54074074],\n",
       "       [0.80952381, 1.        ],\n",
       "       [0.4047619 , 0.37037037],\n",
       "       [0.57142857, 0.28888889],\n",
       "       [0.38095238, 0.20740741],\n",
       "       [0.45238095, 0.27407407],\n",
       "       [0.71428571, 0.11111111],\n",
       "       [0.26190476, 0.20740741],\n",
       "       [0.42857143, 0.27407407],\n",
       "       [0.21428571, 0.28888889],\n",
       "       [0.19047619, 0.76296296]])"
      ]
     },
     "execution_count": 25,
     "metadata": {},
     "output_type": "execute_result"
    }
   ],
   "source": [
    "X_train_scaled"
   ]
  },
  {
   "cell_type": "code",
   "execution_count": 26,
   "metadata": {},
   "outputs": [],
   "source": [
    "X_train_Scaled=pd.DataFrame(X_train_scaled,columns=X_train.columns)\n",
    "X_test_Scaled=pd.DataFrame(X_test_scaler,columns=X_test.columns)"
   ]
  },
  {
   "cell_type": "code",
   "execution_count": 31,
   "metadata": {},
   "outputs": [
    {
     "data": {
      "text/html": [
       "<div>\n",
       "<style scoped>\n",
       "    .dataframe tbody tr th:only-of-type {\n",
       "        vertical-align: middle;\n",
       "    }\n",
       "\n",
       "    .dataframe tbody tr th {\n",
       "        vertical-align: top;\n",
       "    }\n",
       "\n",
       "    .dataframe thead th {\n",
       "        text-align: right;\n",
       "    }\n",
       "</style>\n",
       "<table border=\"1\" class=\"dataframe\">\n",
       "  <thead>\n",
       "    <tr style=\"text-align: right;\">\n",
       "      <th></th>\n",
       "      <th>Age</th>\n",
       "      <th>EstimatedSalary</th>\n",
       "    </tr>\n",
       "  </thead>\n",
       "  <tbody>\n",
       "    <tr>\n",
       "      <th>count</th>\n",
       "      <td>280.0</td>\n",
       "      <td>280.0</td>\n",
       "    </tr>\n",
       "    <tr>\n",
       "      <th>mean</th>\n",
       "      <td>0.5</td>\n",
       "      <td>0.4</td>\n",
       "    </tr>\n",
       "    <tr>\n",
       "      <th>std</th>\n",
       "      <td>0.2</td>\n",
       "      <td>0.3</td>\n",
       "    </tr>\n",
       "    <tr>\n",
       "      <th>min</th>\n",
       "      <td>0.0</td>\n",
       "      <td>0.0</td>\n",
       "    </tr>\n",
       "    <tr>\n",
       "      <th>25%</th>\n",
       "      <td>0.3</td>\n",
       "      <td>0.2</td>\n",
       "    </tr>\n",
       "    <tr>\n",
       "      <th>50%</th>\n",
       "      <td>0.5</td>\n",
       "      <td>0.4</td>\n",
       "    </tr>\n",
       "    <tr>\n",
       "      <th>75%</th>\n",
       "      <td>0.7</td>\n",
       "      <td>0.5</td>\n",
       "    </tr>\n",
       "    <tr>\n",
       "      <th>max</th>\n",
       "      <td>1.0</td>\n",
       "      <td>1.0</td>\n",
       "    </tr>\n",
       "  </tbody>\n",
       "</table>\n",
       "</div>"
      ],
      "text/plain": [
       "         Age  EstimatedSalary\n",
       "count  280.0            280.0\n",
       "mean     0.5              0.4\n",
       "std      0.2              0.3\n",
       "min      0.0              0.0\n",
       "25%      0.3              0.2\n",
       "50%      0.5              0.4\n",
       "75%      0.7              0.5\n",
       "max      1.0              1.0"
      ]
     },
     "execution_count": 31,
     "metadata": {},
     "output_type": "execute_result"
    }
   ],
   "source": [
    "np.round(X_train_Scaled.describe(),1) # Minimum value = 0 && Maximum value =1"
   ]
  },
  {
   "cell_type": "code",
   "execution_count": 32,
   "metadata": {},
   "outputs": [
    {
     "data": {
      "image/png": "[encoded data removed]",
      "text/plain": [
       "<Figure size 1200x500 with 2 Axes>"
      ]
     },
     "metadata": {},
     "output_type": "display_data"
    }
   ],
   "source": [
    "from matplotlib import pyplot as plt\n",
    "fig, (ax1, ax2) = plt.subplots(ncols=2, figsize=(12, 5))\n",
    "\n",
    "ax1.scatter(X_train['Age'], X_train['EstimatedSalary'])\n",
    "ax1.set_title(\"Before Scaling\")\n",
    "ax2.scatter(X_train_Scaled['Age'], X_train_Scaled['EstimatedSalary'],color='red')\n",
    "ax2.set_title(\"After Scaling\")\n",
    "plt.show()"
   ]
  },
  {
   "cell_type": "code",
   "execution_count": null,
   "metadata": {},
   "outputs": [],
   "source": []
  }
 ],
 "metadata": {
  "kernelspec": {
   "display_name": "Python 3",
   "language": "python",
   "name": "python3"
  },
  "language_info": {
   "codemirror_mode": {
    "name": "ipython",
    "version": 3
   },
   "file_extension": ".py",
   "mimetype": "text/x-python",
   "name": "python",
   "nbconvert_exporter": "python",
   "pygments_lexer": "ipython3",
   "version": "3.12.1"
  }
 },
 "nbformat": 4,
 "nbformat_minor": 2
}
